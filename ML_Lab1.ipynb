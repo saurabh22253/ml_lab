{
  "nbformat": 4,
  "nbformat_minor": 0,
  "metadata": {
    "colab": {
      "provenance": [],
      "toc_visible": true
    },
    "kernelspec": {
      "name": "python3",
      "display_name": "Python 3"
    },
    "language_info": {
      "name": "python"
    }
  },
  "cells": [
    {
      "cell_type": "code",
      "source": [
        "import numpy as np"
      ],
      "metadata": {
        "id": "mhcw7r2psKKL"
      },
      "execution_count": 20,
      "outputs": []
    },
    {
      "cell_type": "markdown",
      "source": [
        "Question 1"
      ],
      "metadata": {
        "id": "ypmuZdD8wgfe"
      }
    },
    {
      "cell_type": "code",
      "source": [
        "def find_pairs(l, reqsum):\n",
        "  l = np.array(l)\n",
        "  count = 0\n",
        "  for i in l:\n",
        "    if(reqsum-i in l):\n",
        "      print(i,reqsum-i)\n",
        "      count +=1\n",
        "  print(count)\n",
        "\n",
        "l = [2,7,4,1,3,6]\n",
        "reqsum = 10\n",
        "find_pairs(l, reqsum)"
      ],
      "metadata": {
        "colab": {
          "base_uri": "https://localhost:8080/"
        },
        "id": "K2TTx1FDwjHI",
        "outputId": "5990e62e-5b66-4f25-c723-0a5123c52ef3"
      },
      "execution_count": 39,
      "outputs": [
        {
          "output_type": "stream",
          "name": "stdout",
          "text": [
            "7 3\n",
            "4 6\n",
            "3 7\n",
            "6 4\n",
            "4\n"
          ]
        }
      ]
    },
    {
      "cell_type": "markdown",
      "source": [
        "Question 2"
      ],
      "metadata": {
        "id": "Z1Ap-HKts73Z"
      }
    },
    {
      "cell_type": "code",
      "execution_count": 26,
      "metadata": {
        "id": "By0eX-yuk3D6"
      },
      "outputs": [],
      "source": [
        "def get_list():\n",
        "  n = int(input(\"enTER THE NUMBER OF ELEMENTS\"))\n",
        "  l = []\n",
        "  if(n>3):\n",
        "    for i in range(n):\n",
        "      z = int(input(\"enter the elements\"))\n",
        "      l.append(z)\n",
        "  else:\n",
        "    print(\"ERROR ENTER A BIGGER Range\")\n",
        "    return None\n",
        "  return l"
      ]
    },
    {
      "cell_type": "code",
      "source": [
        "def find_max(l):\n",
        "  MAX = 0\n",
        "  for j in range(len(l)):\n",
        "    if(l[j]>MAX):\n",
        "      MAX = l[j]\n",
        "  return MAX"
      ],
      "metadata": {
        "id": "IExWCkZal1wR"
      },
      "execution_count": 27,
      "outputs": []
    },
    {
      "cell_type": "code",
      "source": [
        "def find_min(l):\n",
        "  min = l[0]\n",
        "  for j in range(len(l)):\n",
        "    if(l[j]<min):\n",
        "      min = l[j]\n",
        "  return min"
      ],
      "metadata": {
        "id": "44ac74laraAZ"
      },
      "execution_count": 28,
      "outputs": []
    },
    {
      "cell_type": "code",
      "source": [
        "l = get_list()\n",
        "if l is not None:\n",
        "  MAX = find_max(l)\n",
        "  min = find_min(l)\n",
        "  print(\"maximum is\",MAX)\n",
        "  print(\"minimum is\",min)\n",
        "  print(\"range is\",MAX-min)"
      ],
      "metadata": {
        "colab": {
          "base_uri": "https://localhost:8080/"
        },
        "id": "gfC2Bl8MwaX4",
        "outputId": "275000e2-1acb-4f93-a9e7-bafdcde648d1"
      },
      "execution_count": 29,
      "outputs": [
        {
          "output_type": "stream",
          "name": "stdout",
          "text": [
            "enTER THE NUMBER OF ELEMENTS3\n",
            "ERROR ENTER A BIGGER Range\n"
          ]
        }
      ]
    },
    {
      "cell_type": "markdown",
      "source": [
        "Question 3"
      ],
      "metadata": {
        "id": "sBfswueFwlAp"
      }
    },
    {
      "cell_type": "code",
      "source": [
        "def matrix_multiply(A, B):\n",
        "    n = len(A)\n",
        "    C = [[0] * n for _ in range(n)]  # Removed extra space at the beginning of this line\n",
        "    for i in range(n):\n",
        "        for j in range(n):\n",
        "            for k in range(n):\n",
        "                C[i][j] += A[i][k] * B[k][j]\n",
        "            return C # Dedented this line to be within the j loop\n",
        "def matrix_power(A, m):\n",
        "    n = len(A)\n",
        "    result = [[1 if i == j else 0 for j in range(n)] for i in range(n)]\n",
        "    base = A\n",
        "    while m > 0:\n",
        "        if m % 2 == 1:\n",
        "            result = matrix_multiply(result, base)\n",
        "        base = matrix_multiply(base, base)\n",
        "        m //= 2\n",
        "    return result\n",
        "A = [[1, 2],     [3, 4]]\n",
        "m = 3\n",
        "result = matrix_power(A, m)\n",
        "for row in result:\n",
        "    print(row)\n"
      ],
      "metadata": {
        "colab": {
          "base_uri": "https://localhost:8080/"
        },
        "id": "GwUfd2bJwq4v",
        "outputId": "bc69a816-ac41-4c23-cdb5-6bfc17a8059f"
      },
      "execution_count": 41,
      "outputs": [
        {
          "output_type": "stream",
          "name": "stdout",
          "text": [
            "[7, 0]\n",
            "[0, 0]\n"
          ]
        }
      ]
    },
    {
      "cell_type": "markdown",
      "source": [
        "Question 4"
      ],
      "metadata": {
        "id": "bsB8vUGRwmr5"
      }
    },
    {
      "cell_type": "code",
      "source": [
        "\n",
        "def highest_occurrence_char(s):\n",
        "    char_count = {}\n",
        "    for char in s:\n",
        "        if char != ' ':\n",
        "            char_count[char] = char_count.get(char, 0) + 1\n",
        "    max_count = max(char_count.values())\n",
        "    max_char = [char for char, count in char_count.items() if count == max_count]\n",
        "    print(\"The character with the maximum occurrence in the string is\", max_char, \"appearing\", max_count, \"times.\")\n",
        "s = input(\"Enter a string: \")\n",
        "highest_occurrence_char(s)\n"
      ],
      "metadata": {
        "colab": {
          "base_uri": "https://localhost:8080/"
        },
        "id": "vzUDnRrRwrRp",
        "outputId": "11b21ee9-42df-4355-f402-252ede2566bc"
      },
      "execution_count": 42,
      "outputs": [
        {
          "output_type": "stream",
          "name": "stdout",
          "text": [
            "Enter a string: hippopopop\n",
            "The character with the maximum occurrence in the string is ['p'] appearing 5 times.\n"
          ]
        }
      ]
    },
    {
      "cell_type": "markdown",
      "source": [
        "Question 5"
      ],
      "metadata": {
        "id": "4Th0YQoKwoif"
      }
    }
  ]
}