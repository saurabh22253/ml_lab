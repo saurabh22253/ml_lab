{
 "cells": [
  {
   "cell_type": "code",
   "execution_count": 1,
   "id": "884bc158-eb80-492c-9063-a081bd0a38f7",
   "metadata": {},
   "outputs": [
    {
     "name": "stdout",
     "output_type": "stream",
     "text": [
      "The total number of pairs are  4\n"
     ]
    }
   ],
   "source": [
    "# Question Number 1st make a function to calculate the number of pair having sum = 10\n",
    "\n",
    "def calculatePair(arr,target):\n",
    "  count=0\n",
    "  for i in arr:\n",
    "    num = target - i\n",
    "    if num in arr and num != i:\n",
    "      count+=1\n",
    "  return count\n",
    "\n",
    "arr = [2,7,4,1,3,6]\n",
    "target = 10\n",
    "pair = calculatePair(arr, target)\n",
    "print(\"The total number of pairs are \",pair )"
   ]
  },
  {
   "cell_type": "code",
   "execution_count": 3,
   "id": "aec8d34c-7a0d-400b-9576-3dca72142bf0",
   "metadata": {},
   "outputs": [
    {
     "name": "stdout",
     "output_type": "stream",
     "text": [
      "Enter the size of the list  4\n",
      "Enter element 1:  12\n",
      "Enter element 2:  10\n",
      "Enter element 3:  4\n",
      "Enter element 4:  7\n"
     ]
    },
    {
     "name": "stdout",
     "output_type": "stream",
     "text": [
      "Range determination not possible\n"
     ]
    }
   ],
   "source": [
    "# Qusetion NUmber 2nd make a function to return the range of the list   \n",
    "\n",
    "def findRange(arr):\n",
    "  if (len(arr) <=  3 ):\n",
    "    return -1\n",
    "  maximum = max(arr)\n",
    "  minimum = min(arr)\n",
    "  return (int(maximum) - int(minimum))\n",
    "\n",
    "listSize = int(input(\"Enter the size of the list \"))\n",
    "arr = []\n",
    "\n",
    "for i in range(listSize):\n",
    "  element = input(f\"Enter element {i+1}: \")\n",
    "  arr.append(element)\n",
    "\n",
    "Range = findRange(arr)\n",
    "if Range <= 0:\n",
    "  print(\"Range determination not possible\")\n",
    "else:\n",
    "  print(\"The range of the list is \", Range)"
   ]
  },
  {
   "cell_type": "code",
   "execution_count": 5,
   "id": "521bb6fc-f06f-4304-b067-a63242e2c901",
   "metadata": {},
   "outputs": [
    {
     "name": "stdout",
     "output_type": "stream",
     "text": [
      "[88, 76]\n",
      "[190, 164]\n"
     ]
    }
   ],
   "source": [
    "# Question number 3rd make a function to take matrix and m as input to return A^m\n",
    "\n",
    "def matrixMultiply(A, B):\n",
    "    n = len(A)\n",
    "    # Initialize the result matrix with zeros\n",
    "    C = [[0] * n for _ in range(n)]\n",
    "    # Perform matrix multiplication\n",
    "    for i in range(n):\n",
    "        for j in range(n):\n",
    "            for k in range(n):\n",
    "                C[i][j] += A[i][k] * B[k][j]\n",
    "    return C\n",
    "\n",
    "def matrixPower(A, m):\n",
    "    n = len(A)\n",
    "    # Initialize the result as the identity matrix\n",
    "    result = [[1 if i == j else 0 for j in range(n)] for i in range(n)]\n",
    "    base = A\n",
    "    \n",
    "    while m > 0:\n",
    "        if m % 2 == 1:  # If m is odd\n",
    "            result = matrixMultiply(result, base)\n",
    "        base = matrixMultiply(base, base)  # Square the base\n",
    "        m //= 2  # Divide m by 2\n",
    "    return result\n",
    "\n",
    "A = [[2, 2],\n",
    "     [5, 4]]\n",
    "m = 3\n",
    "\n",
    "result = matrixPower(A, m)\n",
    "for row in result:\n",
    "    print(row)"
   ]
  },
  {
   "cell_type": "code",
   "execution_count": 7,
   "id": "26700a6a-c9c7-4537-93b5-3991bb0a02a7",
   "metadata": {},
   "outputs": [
    {
     "name": "stdout",
     "output_type": "stream",
     "text": [
      "Enter a string:  ojasahbdx\n"
     ]
    },
    {
     "name": "stdout",
     "output_type": "stream",
     "text": [
      "The character with the maximum occurrence in the string is ['a'] appearing 2 times.\n"
     ]
    }
   ],
   "source": [
    "# Question number 4th to return the maximum occured element\n",
    "\n",
    "def highestOccurrenceChar(s):\n",
    "    charCount = {}\n",
    "    for char in s:\n",
    "        if char != ' ':\n",
    "            charCount[char] = charCount.get(char, 0) + 1\n",
    "\n",
    "    maxCount = max(charCount.values())\n",
    "    maxChar = [char for char, count in charCount.items() if count == maxCount]\n",
    "\n",
    "    print(\"The character with the maximum occurrence in the string is\", maxChar, \"appearing\", maxCount, \"times.\")\n",
    "\n",
    "s = input(\"Enter a string: \")\n",
    "highestOccurrenceChar(s)"
   ]
  },
  {
   "cell_type": "code",
   "execution_count": null,
   "id": "e278800f-1b16-425d-b45c-61a268c6a2a1",
   "metadata": {},
   "outputs": [],
   "source": []
  }
 ],
 "metadata": {
  "kernelspec": {
   "display_name": "Python 3 (ipykernel)",
   "language": "python",
   "name": "python3"
  },
  "language_info": {
   "codemirror_mode": {
    "name": "ipython",
    "version": 3
   },
   "file_extension": ".py",
   "mimetype": "text/x-python",
   "name": "python",
   "nbconvert_exporter": "python",
   "pygments_lexer": "ipython3",
   "version": "3.12.4"
  }
 },
 "nbformat": 4,
 "nbformat_minor": 5
}
